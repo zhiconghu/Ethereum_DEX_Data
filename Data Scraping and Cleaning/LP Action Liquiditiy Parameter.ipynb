{
 "cells": [
  {
   "cell_type": "code",
   "execution_count": 1,
   "metadata": {},
   "outputs": [],
   "source": [
    "import numpy as np\n",
    "import pandas as pd\n",
    "import os\n",
    "import matplotlib.pyplot as plt\n",
    "import pyarrow.parquet as pq\n",
    "import datetime as dt\n",
    "\n",
    "from sympy import symbols, Symbol, Eq, nsolve, solve, sqrt\n",
    "from decimal import Decimal, getcontext\n",
    "\n",
    "import multiprocessing as mp\n",
    "\n",
    "from LP_Action_Liquidity_Parameter_Function import Get_Liquidity_Parameter, Get_Price\n",
    "\n",
    "data_dir = '/Users/zhicong/Dropbox/DEXs'\n",
    "pool_name = 'USDC-WETH 100 1'"
   ]
  },
  {
   "attachments": {},
   "cell_type": "markdown",
   "metadata": {},
   "source": [
    "# LP Action\n",
    "\n",
    "We import all LP actions and conduct basic cleaning."
   ]
  },
  {
   "cell_type": "code",
   "execution_count": 2,
   "metadata": {},
   "outputs": [
    {
     "name": "stdout",
     "output_type": "stream",
     "text": [
      "Number of LP Actions in this pool: 1028\n"
     ]
    },
    {
     "data": {
      "text/html": [
       "<div>\n",
       "<style scoped>\n",
       "    .dataframe tbody tr th:only-of-type {\n",
       "        vertical-align: middle;\n",
       "    }\n",
       "\n",
       "    .dataframe tbody tr th {\n",
       "        vertical-align: top;\n",
       "    }\n",
       "\n",
       "    .dataframe thead th {\n",
       "        text-align: right;\n",
       "    }\n",
       "</style>\n",
       "<table border=\"1\" class=\"dataframe\">\n",
       "  <thead>\n",
       "    <tr style=\"text-align: right;\">\n",
       "      <th></th>\n",
       "      <th>POOL_NAME</th>\n",
       "      <th>TX_HASH</th>\n",
       "      <th>EVENT_NAME</th>\n",
       "      <th>BLOCK_NUMBER</th>\n",
       "      <th>BLOCK_TIMESTAMP</th>\n",
       "      <th>SENDER</th>\n",
       "      <th>NF_TOKEN_ID</th>\n",
       "      <th>AMOUNT0_ADJUSTED</th>\n",
       "      <th>TOKEN0_SYMBOL</th>\n",
       "      <th>AMOUNT0_USD</th>\n",
       "      <th>AMOUNT1_ADJUSTED</th>\n",
       "      <th>TOKEN1_SYMBOL</th>\n",
       "      <th>AMOUNT1_USD</th>\n",
       "      <th>TICK_LOWER</th>\n",
       "      <th>TICK_UPPER</th>\n",
       "      <th>PRICE_LOWER</th>\n",
       "      <th>PRICE_UPPER</th>\n",
       "    </tr>\n",
       "  </thead>\n",
       "  <tbody>\n",
       "    <tr>\n",
       "      <th>0</th>\n",
       "      <td>USDC-WETH 100 1</td>\n",
       "      <td>0x9a773c2ab3acc47552e73d553b35e29c8fb0ca957688...</td>\n",
       "      <td>Increase Liquidity</td>\n",
       "      <td>13616454</td>\n",
       "      <td>2021-11-14 21:44:29</td>\n",
       "      <td>0x0ce37f7166d9f94180274348207829f72ce23737</td>\n",
       "      <td>153900</td>\n",
       "      <td>3.903388e+03</td>\n",
       "      <td>USDC</td>\n",
       "      <td>3.903388e+03</td>\n",
       "      <td>1.000000</td>\n",
       "      <td>WETH</td>\n",
       "      <td>4556.240000</td>\n",
       "      <td>191872</td>\n",
       "      <td>192146</td>\n",
       "      <td>4525.040389211555520887486636638641357421875</td>\n",
       "      <td>4650.7343552755000928300432860851287841796875</td>\n",
       "    </tr>\n",
       "    <tr>\n",
       "      <th>1</th>\n",
       "      <td>USDC-WETH 100 1</td>\n",
       "      <td>0x536c31d1ea4f5300214bcce3719bc418a8d0c045a884...</td>\n",
       "      <td>Increase Liquidity</td>\n",
       "      <td>13616513</td>\n",
       "      <td>2021-11-14 21:59:27</td>\n",
       "      <td>0x0ce37f7166d9f94180274348207829f72ce23737</td>\n",
       "      <td>153900</td>\n",
       "      <td>3.903388e+04</td>\n",
       "      <td>USDC</td>\n",
       "      <td>3.903388e+04</td>\n",
       "      <td>10.000000</td>\n",
       "      <td>WETH</td>\n",
       "      <td>45562.400000</td>\n",
       "      <td>191872</td>\n",
       "      <td>192146</td>\n",
       "      <td>4525.040389211555520887486636638641357421875</td>\n",
       "      <td>4650.7343552755000928300432860851287841796875</td>\n",
       "    </tr>\n",
       "    <tr>\n",
       "      <th>2</th>\n",
       "      <td>USDC-WETH 100 1</td>\n",
       "      <td>0x80c180d5b5fd5293241c574280632ef953ee1eb948d1...</td>\n",
       "      <td>Increase Liquidity</td>\n",
       "      <td>13616555</td>\n",
       "      <td>2021-11-14 22:07:56</td>\n",
       "      <td>0x0ce37f7166d9f94180274348207829f72ce23737</td>\n",
       "      <td>153900</td>\n",
       "      <td>5.000000e+05</td>\n",
       "      <td>USDC</td>\n",
       "      <td>5.000000e+05</td>\n",
       "      <td>135.317523</td>\n",
       "      <td>WETH</td>\n",
       "      <td>621785.369240</td>\n",
       "      <td>191872</td>\n",
       "      <td>192146</td>\n",
       "      <td>4525.040389211555520887486636638641357421875</td>\n",
       "      <td>4650.7343552755000928300432860851287841796875</td>\n",
       "    </tr>\n",
       "    <tr>\n",
       "      <th>3</th>\n",
       "      <td>USDC-WETH 100 1</td>\n",
       "      <td>0x199ffb9bf6d564b6e9267e1e8223152619d9b02fb40b...</td>\n",
       "      <td>Increase Liquidity</td>\n",
       "      <td>13616713</td>\n",
       "      <td>2021-11-14 22:45:01</td>\n",
       "      <td>0x0ce37f7166d9f94180274348207829f72ce23737</td>\n",
       "      <td>153918</td>\n",
       "      <td>6.717100e+05</td>\n",
       "      <td>USDC</td>\n",
       "      <td>6.717100e+05</td>\n",
       "      <td>0.000000</td>\n",
       "      <td>WETH</td>\n",
       "      <td>0.000000</td>\n",
       "      <td>192004</td>\n",
       "      <td>192087</td>\n",
       "      <td>4551.8156982596710804500617086887359619140625</td>\n",
       "      <td>4589.7510859065869226469658315181732177734375</td>\n",
       "    </tr>\n",
       "    <tr>\n",
       "      <th>4</th>\n",
       "      <td>USDC-WETH 100 1</td>\n",
       "      <td>0x0b48916af7a778673ddd57ba88ff7ad16256eb21f254...</td>\n",
       "      <td>Decrease Liquidity</td>\n",
       "      <td>13617092</td>\n",
       "      <td>2021-11-15 00:08:19</td>\n",
       "      <td>0x0ce37f7166d9f94180274348207829f72ce23737</td>\n",
       "      <td>153900</td>\n",
       "      <td>1.164073e+06</td>\n",
       "      <td>USDC</td>\n",
       "      <td>1.164073e+06</td>\n",
       "      <td>11.664559</td>\n",
       "      <td>WETH</td>\n",
       "      <td>53598.763959</td>\n",
       "      <td>191872</td>\n",
       "      <td>192146</td>\n",
       "      <td>4525.040389211555520887486636638641357421875</td>\n",
       "      <td>4650.7343552755000928300432860851287841796875</td>\n",
       "    </tr>\n",
       "  </tbody>\n",
       "</table>\n",
       "</div>"
      ],
      "text/plain": [
       "         POOL_NAME                                            TX_HASH  \\\n",
       "0  USDC-WETH 100 1  0x9a773c2ab3acc47552e73d553b35e29c8fb0ca957688...   \n",
       "1  USDC-WETH 100 1  0x536c31d1ea4f5300214bcce3719bc418a8d0c045a884...   \n",
       "2  USDC-WETH 100 1  0x80c180d5b5fd5293241c574280632ef953ee1eb948d1...   \n",
       "3  USDC-WETH 100 1  0x199ffb9bf6d564b6e9267e1e8223152619d9b02fb40b...   \n",
       "4  USDC-WETH 100 1  0x0b48916af7a778673ddd57ba88ff7ad16256eb21f254...   \n",
       "\n",
       "           EVENT_NAME  BLOCK_NUMBER     BLOCK_TIMESTAMP  \\\n",
       "0  Increase Liquidity      13616454 2021-11-14 21:44:29   \n",
       "1  Increase Liquidity      13616513 2021-11-14 21:59:27   \n",
       "2  Increase Liquidity      13616555 2021-11-14 22:07:56   \n",
       "3  Increase Liquidity      13616713 2021-11-14 22:45:01   \n",
       "4  Decrease Liquidity      13617092 2021-11-15 00:08:19   \n",
       "\n",
       "                                       SENDER NF_TOKEN_ID  AMOUNT0_ADJUSTED  \\\n",
       "0  0x0ce37f7166d9f94180274348207829f72ce23737      153900      3.903388e+03   \n",
       "1  0x0ce37f7166d9f94180274348207829f72ce23737      153900      3.903388e+04   \n",
       "2  0x0ce37f7166d9f94180274348207829f72ce23737      153900      5.000000e+05   \n",
       "3  0x0ce37f7166d9f94180274348207829f72ce23737      153918      6.717100e+05   \n",
       "4  0x0ce37f7166d9f94180274348207829f72ce23737      153900      1.164073e+06   \n",
       "\n",
       "  TOKEN0_SYMBOL   AMOUNT0_USD  AMOUNT1_ADJUSTED TOKEN1_SYMBOL    AMOUNT1_USD  \\\n",
       "0          USDC  3.903388e+03          1.000000          WETH    4556.240000   \n",
       "1          USDC  3.903388e+04         10.000000          WETH   45562.400000   \n",
       "2          USDC  5.000000e+05        135.317523          WETH  621785.369240   \n",
       "3          USDC  6.717100e+05          0.000000          WETH       0.000000   \n",
       "4          USDC  1.164073e+06         11.664559          WETH   53598.763959   \n",
       "\n",
       "   TICK_LOWER  TICK_UPPER                                    PRICE_LOWER  \\\n",
       "0      191872      192146   4525.040389211555520887486636638641357421875   \n",
       "1      191872      192146   4525.040389211555520887486636638641357421875   \n",
       "2      191872      192146   4525.040389211555520887486636638641357421875   \n",
       "3      192004      192087  4551.8156982596710804500617086887359619140625   \n",
       "4      191872      192146   4525.040389211555520887486636638641357421875   \n",
       "\n",
       "                                     PRICE_UPPER  \n",
       "0  4650.7343552755000928300432860851287841796875  \n",
       "1  4650.7343552755000928300432860851287841796875  \n",
       "2  4650.7343552755000928300432860851287841796875  \n",
       "3  4589.7510859065869226469658315181732177734375  \n",
       "4  4650.7343552755000928300432860851287841796875  "
      ]
     },
     "execution_count": 2,
     "metadata": {},
     "output_type": "execute_result"
    }
   ],
   "source": [
    "lp_action = pd.read_csv(os.path.join(data_dir, \"uniswapv3_lp_actions\", pool_name + \".csv\"))\n",
    "lp_action.columns = [x.upper() for x in lp_action.columns.tolist()]\n",
    "lp_action.dropna(subset = ['AMOUNT0_USD','AMOUNT1_USD'], inplace = True)\n",
    "\n",
    "# Final cleaning\n",
    "lp_action['BLOCK_NUMBER'] = lp_action['BLOCK_NUMBER'].astype(int)\n",
    "lp_action.sort_values(by = ['BLOCK_NUMBER'], ascending = False, inplace = True)\n",
    "lp_action['AMOUNT0_ADJUSTED'] = lp_action['AMOUNT0_ADJUSTED'].astype(float)\n",
    "lp_action['AMOUNT1_ADJUSTED'] = lp_action['AMOUNT1_ADJUSTED'].astype(float)\n",
    "lp_action['BLOCK_TIMESTAMP'] = pd.to_datetime([x[:-5] for x in lp_action['BLOCK_TIMESTAMP'].astype(str)])\n",
    "lp_action = lp_action[(lp_action['AMOUNT0_ADJUSTED'] != 0) | (lp_action['AMOUNT1_ADJUSTED'] != 0)]\n",
    "lp_action['NF_TOKEN_ID'] = lp_action['NF_TOKEN_ID'].apply(str).str.replace('.0','', regex = False)\n",
    "\n",
    "# Changing signs of addition and extraction\n",
    "lp_action['ACTION'] = lp_action['ACTION'].replace({'INCREASE_LIQUIDITY':'Increase Liquidity',\n",
    "                                                   'DECREASE_LIQUIDITY':'Decrease Liquidity'})\n",
    "lp_action.rename(columns = {'LIQUIDITY_PROVIDER':'SENDER', 'ACTION':'EVENT_NAME'}, inplace = True)\n",
    "\n",
    "# Get lower and upper price from tick\n",
    "lp_action['PRICE_LOWER'] = lp_action['TICK_UPPER'].apply(Get_Price)\n",
    "lp_action['PRICE_UPPER'] = lp_action['TICK_LOWER'].apply(Get_Price)\n",
    "\n",
    "# Reverse to make sure LPs are sorted in the same order as they are executed\n",
    "lp_action = lp_action.iloc[::-1]\n",
    "lp_action.reset_index(drop = True, inplace = True)\n",
    "\n",
    "print(\"Number of LP Actions in this pool:\",len(lp_action))\n",
    "lp_action.head()"
   ]
  },
  {
   "cell_type": "markdown",
   "metadata": {},
   "source": [
    "# Match Withdrawal with Deposition"
   ]
  },
  {
   "cell_type": "code",
   "execution_count": 3,
   "metadata": {},
   "outputs": [
    {
     "data": {
      "text/plain": [
       "'\\ntoken_transfer = pd.read_csv(os.path.join(data_dir, \"uniswapv3_NFT\", pool_name + \".csv\"))\\ntoken_transfer.columns = [x.upper() for x in token_transfer.columns.tolist()]\\ntoken_transfer = token_transfer.sort_values(by = [\\'TOKENID\\',\\'BLOCK_NUMBER\\'])\\n\\ntoken_transfer = token_transfer[token_transfer[\\'BLOCK_NUMBER\\'] <= lp_action[\\'BLOCK_NUMBER\\'].max()]\\n\\ntoken_transfer.head()\\n\\ninitial = token_transfer.loc[token_transfer[\\'NFT_FROM_ADDRESS\\'] == \\'0x0000000000000000000000000000000000000000\\',[\\'TOKENID\\',\\'TX_HASH\\',\\'NFT_TO_ADDRESS\\']]\\ninitial[\\'EVENT_NAME\\'] = \\'Increase Liquidity\\'\\n\\nfinal = token_transfer.groupby([\\'TOKENID\\'])[[\\'TOKENID\\',\\'TX_HASH\\',\\'NFT_TO_ADDRESS\\']].tail(1)\\nfinal[\\'EVENT_NAME\\'] = \\'Decrease Liquidity\\'\\n\\ntoken_transfer = pd.concat([initial,final], axis = 0)\\ntoken_transfer.sort_values(by = [\\'TOKENID\\'], inplace = True)\\ntoken_transfer.rename(columns = {\\'NFT_TO_ADDRESS\\':\\'SENDER\\'}, inplace = True)\\n\\ntoken_transfer.head()\\n'"
      ]
     },
     "execution_count": 3,
     "metadata": {},
     "output_type": "execute_result"
    }
   ],
   "source": [
    "\"\"\"\n",
    "token_transfer = pd.read_csv(os.path.join(data_dir, \"uniswapv3_NFT\", pool_name + \".csv\"))\n",
    "token_transfer.columns = [x.upper() for x in token_transfer.columns.tolist()]\n",
    "token_transfer = token_transfer.sort_values(by = ['TOKENID','BLOCK_NUMBER'])\n",
    "\n",
    "token_transfer = token_transfer[token_transfer['BLOCK_NUMBER'] <= lp_action['BLOCK_NUMBER'].max()]\n",
    "\n",
    "token_transfer.head()\n",
    "\n",
    "initial = token_transfer.loc[token_transfer['NFT_FROM_ADDRESS'] == '0x0000000000000000000000000000000000000000',['TOKENID','TX_HASH','NFT_TO_ADDRESS']]\n",
    "initial['EVENT_NAME'] = 'Increase Liquidity'\n",
    "\n",
    "final = token_transfer.groupby(['TOKENID'])[['TOKENID','TX_HASH','NFT_TO_ADDRESS']].tail(1)\n",
    "final['EVENT_NAME'] = 'Decrease Liquidity'\n",
    "\n",
    "token_transfer = pd.concat([initial,final], axis = 0)\n",
    "token_transfer.sort_values(by = ['TOKENID'], inplace = True)\n",
    "token_transfer.rename(columns = {'NFT_TO_ADDRESS':'SENDER'}, inplace = True)\n",
    "\n",
    "token_transfer.head()\n",
    "\"\"\""
   ]
  },
  {
   "cell_type": "markdown",
   "metadata": {},
   "source": [
    "Merge token_transfer into lp_action."
   ]
  },
  {
   "attachments": {},
   "cell_type": "markdown",
   "metadata": {},
   "source": [
    "# Add Liquidity Parameter"
   ]
  },
  {
   "cell_type": "code",
   "execution_count": 4,
   "metadata": {},
   "outputs": [
    {
     "name": "stdout",
     "output_type": "stream",
     "text": [
      "Working on row: 0\n"
     ]
    }
   ],
   "source": [
    "with mp.Pool(10) as pool:\n",
    "    result = pool.imap(Get_Liquidity_Parameter, lp_action[['AMOUNT1_ADJUSTED','AMOUNT0_ADJUSTED','PRICE_LOWER','PRICE_UPPER']].iterrows(), chunksize = 1)\n",
    "    output = [x for x in result]\n",
    "\n",
    "lp_action['L'] = output"
   ]
  },
  {
   "cell_type": "code",
   "execution_count": 5,
   "metadata": {},
   "outputs": [],
   "source": [
    "lp_action.to_csv(os.path.join(data_dir, \"uniswapv3_lp_action_LP\", pool_name + \"_LP.csv\"), index=False)"
   ]
  }
 ],
 "metadata": {
  "kernelspec": {
   "display_name": "Python 3",
   "language": "python",
   "name": "python3"
  },
  "language_info": {
   "codemirror_mode": {
    "name": "ipython",
    "version": 3
   },
   "file_extension": ".py",
   "mimetype": "text/x-python",
   "name": "python",
   "nbconvert_exporter": "python",
   "pygments_lexer": "ipython3",
   "version": "3.9.15"
  },
  "orig_nbformat": 4
 },
 "nbformat": 4,
 "nbformat_minor": 2
}
