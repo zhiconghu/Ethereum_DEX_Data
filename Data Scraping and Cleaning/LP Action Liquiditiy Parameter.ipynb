{
 "cells": [
  {
   "cell_type": "code",
   "execution_count": 1,
   "metadata": {},
   "outputs": [],
   "source": [
    "import numpy as np\n",
    "import pandas as pd\n",
    "import os\n",
    "import matplotlib.pyplot as plt\n",
    "import pyarrow.parquet as pq\n",
    "import datetime as dt\n",
    "\n",
    "from sympy import symbols, Symbol, Eq, nsolve, solve, sqrt\n",
    "from decimal import Decimal, getcontext\n",
    "\n",
    "import multiprocessing as mp\n",
    "\n",
    "from LP_Action_Liquidity_Parameter_Function import Get_Liquidity_Parameter, Get_Price\n",
    "\n",
    "data_dir = '/Users/zhicong/Dropbox/DEXs'\n",
    "pool_name = 'WETH-USDT 3000 60'"
   ]
  },
  {
   "cell_type": "code",
   "execution_count": 2,
   "metadata": {},
   "outputs": [
    {
     "name": "stdout",
     "output_type": "stream",
     "text": [
      "12\n"
     ]
    }
   ],
   "source": [
    "from flipside import Flipside\n",
    "flipside = Flipside(\"023b83a2-e411-4849-a961-3742c87bc9c9\", \"https://api-v2.flipsidecrypto.xyz\")\n",
    "\n",
    "sql = \"\"\"\n",
    "SELECT TOKEN0_DECIMALS, TOKEN1_DECIMALS\n",
    "FROM ethereum.uniswapv3.ez_pools\n",
    "\"\"\" +\\\n",
    "\"WHERE POOL_NAME = '\" + pool_name + \"'\" \n",
    "\n",
    "query_result_set = flipside.query(sql)\n",
    "results = flipside.get_query_results(query_result_set.query_id, page_number=1).records[0]\n",
    "decimals = results['token0_decimals']-results['token1_decimals']\n",
    "print(decimals)"
   ]
  },
  {
   "attachments": {},
   "cell_type": "markdown",
   "metadata": {},
   "source": [
    "# LP Action\n",
    "\n",
    "We import all LP actions and conduct basic cleaning."
   ]
  },
  {
   "cell_type": "code",
   "execution_count": 3,
   "metadata": {},
   "outputs": [
    {
     "name": "stdout",
     "output_type": "stream",
     "text": [
      "Number of LP Actions in this pool: 36201\n"
     ]
    },
    {
     "data": {
      "text/html": [
       "<div>\n",
       "<style scoped>\n",
       "    .dataframe tbody tr th:only-of-type {\n",
       "        vertical-align: middle;\n",
       "    }\n",
       "\n",
       "    .dataframe tbody tr th {\n",
       "        vertical-align: top;\n",
       "    }\n",
       "\n",
       "    .dataframe thead th {\n",
       "        text-align: right;\n",
       "    }\n",
       "</style>\n",
       "<table border=\"1\" class=\"dataframe\">\n",
       "  <thead>\n",
       "    <tr style=\"text-align: right;\">\n",
       "      <th></th>\n",
       "      <th>POOL_NAME</th>\n",
       "      <th>TX_HASH</th>\n",
       "      <th>EVENT_NAME</th>\n",
       "      <th>BLOCK_NUMBER</th>\n",
       "      <th>BLOCK_TIMESTAMP</th>\n",
       "      <th>SENDER</th>\n",
       "      <th>NF_TOKEN_ID</th>\n",
       "      <th>AMOUNT0_ADJUSTED</th>\n",
       "      <th>TOKEN0_SYMBOL</th>\n",
       "      <th>AMOUNT0_USD</th>\n",
       "      <th>AMOUNT1_ADJUSTED</th>\n",
       "      <th>TOKEN1_SYMBOL</th>\n",
       "      <th>AMOUNT1_USD</th>\n",
       "      <th>TICK_LOWER</th>\n",
       "      <th>TICK_UPPER</th>\n",
       "      <th>PRICE_LOWER</th>\n",
       "      <th>PRICE_UPPER</th>\n",
       "    </tr>\n",
       "  </thead>\n",
       "  <tbody>\n",
       "    <tr>\n",
       "      <th>0</th>\n",
       "      <td>WETH-USDT 3000 60</td>\n",
       "      <td>0x2e07c690f149223e4f290986277304ea6a05c6ee47ba...</td>\n",
       "      <td>Increase Liquidity</td>\n",
       "      <td>12375326</td>\n",
       "      <td>2021-05-05 16:37:08</td>\n",
       "      <td>0xe14722b5f1aa6ea161e547c5ca598068ec1b3bc0</td>\n",
       "      <td>128</td>\n",
       "      <td>1.242324e+01</td>\n",
       "      <td>WETH</td>\n",
       "      <td>41602.016219</td>\n",
       "      <td>50500.280094</td>\n",
       "      <td>USDT</td>\n",
       "      <td>50501.491412</td>\n",
       "      <td>-197400</td>\n",
       "      <td>-193320</td>\n",
       "      <td>0.00024851989593805513334770496136627571104327...</td>\n",
       "      <td>0.00037371837578048104806793805465758850914426...</td>\n",
       "    </tr>\n",
       "    <tr>\n",
       "      <th>1</th>\n",
       "      <td>WETH-USDT 3000 60</td>\n",
       "      <td>0x85a3f0ed4fc14085609e95e7366364566b89d7569e62...</td>\n",
       "      <td>Increase Liquidity</td>\n",
       "      <td>12375529</td>\n",
       "      <td>2021-05-05 17:20:08</td>\n",
       "      <td>0x726022a9fe1322fa9590fb244b8164936bb00489</td>\n",
       "      <td>130</td>\n",
       "      <td>1.000000e-03</td>\n",
       "      <td>WETH</td>\n",
       "      <td>3.410548</td>\n",
       "      <td>0.000000</td>\n",
       "      <td>USDT</td>\n",
       "      <td>0.000000</td>\n",
       "      <td>-195120</td>\n",
       "      <td>-195060</td>\n",
       "      <td>0.00029574991251426623354789380293539124977542...</td>\n",
       "      <td>0.00029752965689780312436713005652677566104102...</td>\n",
       "    </tr>\n",
       "    <tr>\n",
       "      <th>2</th>\n",
       "      <td>WETH-USDT 3000 60</td>\n",
       "      <td>0x0fde2929c1fa5dd5dc9a0fcfbf8adccdeefbc398aa36...</td>\n",
       "      <td>Increase Liquidity</td>\n",
       "      <td>12375553</td>\n",
       "      <td>2021-05-05 17:26:26</td>\n",
       "      <td>0x726022a9fe1322fa9590fb244b8164936bb00489</td>\n",
       "      <td>131</td>\n",
       "      <td>9.995372e-08</td>\n",
       "      <td>WETH</td>\n",
       "      <td>0.000341</td>\n",
       "      <td>0.000274</td>\n",
       "      <td>USDT</td>\n",
       "      <td>0.000274</td>\n",
       "      <td>-195180</td>\n",
       "      <td>-195120</td>\n",
       "      <td>0.00029752965689780312436713005652677566104102...</td>\n",
       "      <td>0.00029932011131010653184544856308946236822521...</td>\n",
       "    </tr>\n",
       "    <tr>\n",
       "      <th>3</th>\n",
       "      <td>WETH-USDT 3000 60</td>\n",
       "      <td>0x34ca11f7f1c6a4d8d17cabf14c6d0ffa5116a693508c...</td>\n",
       "      <td>Increase Liquidity</td>\n",
       "      <td>12375566</td>\n",
       "      <td>2021-05-05 17:29:37</td>\n",
       "      <td>0x726022a9fe1322fa9590fb244b8164936bb00489</td>\n",
       "      <td>132</td>\n",
       "      <td>9.999750e-06</td>\n",
       "      <td>WETH</td>\n",
       "      <td>0.034105</td>\n",
       "      <td>0.027412</td>\n",
       "      <td>USDT</td>\n",
       "      <td>0.027413</td>\n",
       "      <td>-195180</td>\n",
       "      <td>-195120</td>\n",
       "      <td>0.00029752965689780312436713005652677566104102...</td>\n",
       "      <td>0.00029932011131010653184544856308946236822521...</td>\n",
       "    </tr>\n",
       "    <tr>\n",
       "      <th>4</th>\n",
       "      <td>WETH-USDT 3000 60</td>\n",
       "      <td>0x9ece74425a9b5b937b51e14d4fbb9eb7aa6f6ae415d5...</td>\n",
       "      <td>Increase Liquidity</td>\n",
       "      <td>12375566</td>\n",
       "      <td>2021-05-05 17:29:37</td>\n",
       "      <td>0x726022a9fe1322fa9590fb244b8164936bb00489</td>\n",
       "      <td>133</td>\n",
       "      <td>9.999750e-06</td>\n",
       "      <td>WETH</td>\n",
       "      <td>0.034105</td>\n",
       "      <td>0.027412</td>\n",
       "      <td>USDT</td>\n",
       "      <td>0.027413</td>\n",
       "      <td>-195180</td>\n",
       "      <td>-195120</td>\n",
       "      <td>0.00029752965689780312436713005652677566104102...</td>\n",
       "      <td>0.00029932011131010653184544856308946236822521...</td>\n",
       "    </tr>\n",
       "  </tbody>\n",
       "</table>\n",
       "</div>"
      ],
      "text/plain": [
       "           POOL_NAME                                            TX_HASH  \\\n",
       "0  WETH-USDT 3000 60  0x2e07c690f149223e4f290986277304ea6a05c6ee47ba...   \n",
       "1  WETH-USDT 3000 60  0x85a3f0ed4fc14085609e95e7366364566b89d7569e62...   \n",
       "2  WETH-USDT 3000 60  0x0fde2929c1fa5dd5dc9a0fcfbf8adccdeefbc398aa36...   \n",
       "3  WETH-USDT 3000 60  0x34ca11f7f1c6a4d8d17cabf14c6d0ffa5116a693508c...   \n",
       "4  WETH-USDT 3000 60  0x9ece74425a9b5b937b51e14d4fbb9eb7aa6f6ae415d5...   \n",
       "\n",
       "           EVENT_NAME  BLOCK_NUMBER     BLOCK_TIMESTAMP  \\\n",
       "0  Increase Liquidity      12375326 2021-05-05 16:37:08   \n",
       "1  Increase Liquidity      12375529 2021-05-05 17:20:08   \n",
       "2  Increase Liquidity      12375553 2021-05-05 17:26:26   \n",
       "3  Increase Liquidity      12375566 2021-05-05 17:29:37   \n",
       "4  Increase Liquidity      12375566 2021-05-05 17:29:37   \n",
       "\n",
       "                                       SENDER NF_TOKEN_ID  AMOUNT0_ADJUSTED  \\\n",
       "0  0xe14722b5f1aa6ea161e547c5ca598068ec1b3bc0         128      1.242324e+01   \n",
       "1  0x726022a9fe1322fa9590fb244b8164936bb00489         130      1.000000e-03   \n",
       "2  0x726022a9fe1322fa9590fb244b8164936bb00489         131      9.995372e-08   \n",
       "3  0x726022a9fe1322fa9590fb244b8164936bb00489         132      9.999750e-06   \n",
       "4  0x726022a9fe1322fa9590fb244b8164936bb00489         133      9.999750e-06   \n",
       "\n",
       "  TOKEN0_SYMBOL   AMOUNT0_USD  AMOUNT1_ADJUSTED TOKEN1_SYMBOL   AMOUNT1_USD  \\\n",
       "0          WETH  41602.016219      50500.280094          USDT  50501.491412   \n",
       "1          WETH      3.410548          0.000000          USDT      0.000000   \n",
       "2          WETH      0.000341          0.000274          USDT      0.000274   \n",
       "3          WETH      0.034105          0.027412          USDT      0.027413   \n",
       "4          WETH      0.034105          0.027412          USDT      0.027413   \n",
       "\n",
       "   TICK_LOWER  TICK_UPPER                                        PRICE_LOWER  \\\n",
       "0     -197400     -193320  0.00024851989593805513334770496136627571104327...   \n",
       "1     -195120     -195060  0.00029574991251426623354789380293539124977542...   \n",
       "2     -195180     -195120  0.00029752965689780312436713005652677566104102...   \n",
       "3     -195180     -195120  0.00029752965689780312436713005652677566104102...   \n",
       "4     -195180     -195120  0.00029752965689780312436713005652677566104102...   \n",
       "\n",
       "                                         PRICE_UPPER  \n",
       "0  0.00037371837578048104806793805465758850914426...  \n",
       "1  0.00029752965689780312436713005652677566104102...  \n",
       "2  0.00029932011131010653184544856308946236822521...  \n",
       "3  0.00029932011131010653184544856308946236822521...  \n",
       "4  0.00029932011131010653184544856308946236822521...  "
      ]
     },
     "execution_count": 3,
     "metadata": {},
     "output_type": "execute_result"
    }
   ],
   "source": [
    "lp_action = pd.read_csv(os.path.join(data_dir, \"Data\", \"uniswapv3_lp_actions\", pool_name + \".csv\"))\n",
    "lp_action.columns = [x.upper() for x in lp_action.columns.tolist()]\n",
    "\n",
    "# First, remove all newest observations that does not yet have USD value for token\n",
    "lp_action = lp_action[lp_action['AMOUNT0_USD'].first_valid_index():]\n",
    "lp_action = lp_action[lp_action['AMOUNT1_USD'].first_valid_index():]\n",
    "lp_action.reset_index(drop = True, inplace = True)\n",
    "\n",
    "# USD amount is also not available during a token's early phase, for these, we interploate and use the earliest available price\n",
    "earliest_token0_price = lp_action.loc[(~lp_action['AMOUNT0_USD'].isna()) & (lp_action['AMOUNT0_ADJUSTED'] != 0),['AMOUNT0_ADJUSTED','AMOUNT0_USD']].tail(1).iloc[0]\n",
    "earliest_token0_price = earliest_token0_price['AMOUNT0_USD']/earliest_token0_price['AMOUNT0_ADJUSTED']\n",
    "lp_action.loc[lp_action['AMOUNT0_USD'].isna(),'AMOUNT0_USD'] = lp_action.loc[lp_action['AMOUNT0_USD'].isna(),'AMOUNT0_ADJUSTED']*earliest_token0_price\n",
    "earliest_token1_price = lp_action.loc[(~lp_action['AMOUNT1_USD'].isna()) & (lp_action['AMOUNT1_ADJUSTED'] != 0),['AMOUNT1_ADJUSTED','AMOUNT1_USD']].tail(1).iloc[0]\n",
    "earliest_token1_price = earliest_token1_price['AMOUNT1_USD']/earliest_token1_price['AMOUNT1_ADJUSTED']\n",
    "lp_action.loc[lp_action['AMOUNT1_USD'].isna(),'AMOUNT1_USD'] = lp_action.loc[lp_action['AMOUNT1_USD'].isna(),'AMOUNT1_ADJUSTED']*earliest_token1_price\n",
    "\n",
    "# Final cleaning\n",
    "lp_action['BLOCK_NUMBER'] = lp_action['BLOCK_NUMBER'].astype(int)\n",
    "lp_action.sort_values(by = ['BLOCK_NUMBER'], ascending = False, inplace = True)\n",
    "lp_action['AMOUNT0_ADJUSTED'] = lp_action['AMOUNT0_ADJUSTED'].astype(float)\n",
    "lp_action['AMOUNT1_ADJUSTED'] = lp_action['AMOUNT1_ADJUSTED'].astype(float)\n",
    "lp_action['BLOCK_TIMESTAMP'] = pd.to_datetime([x[:-5] for x in lp_action['BLOCK_TIMESTAMP'].astype(str)])\n",
    "lp_action = lp_action[(lp_action['AMOUNT0_ADJUSTED'] != 0) | (lp_action['AMOUNT1_ADJUSTED'] != 0)]\n",
    "lp_action['NF_TOKEN_ID'] = lp_action['NF_TOKEN_ID'].apply(str).str.replace('.0','', regex = False)\n",
    "\n",
    "# Changing signs of addition and extraction\n",
    "lp_action['ACTION'] = lp_action['ACTION'].replace({'INCREASE_LIQUIDITY':'Increase Liquidity',\n",
    "                                                   'DECREASE_LIQUIDITY':'Decrease Liquidity'})\n",
    "lp_action.rename(columns = {'LIQUIDITY_PROVIDER':'SENDER', 'ACTION':'EVENT_NAME'}, inplace = True)\n",
    "\n",
    "# Get lower and upper price from tick\n",
    "lp_action['PRICE_LOWER'] = lp_action['TICK_UPPER'].apply(Get_Price, args = (decimals,))\n",
    "lp_action['PRICE_UPPER'] = lp_action['TICK_LOWER'].apply(Get_Price, args = (decimals,))\n",
    "\n",
    "# Reverse to make sure LPs are sorted in the same order as they are executed\n",
    "lp_action = lp_action.iloc[::-1]\n",
    "lp_action.reset_index(drop = True, inplace = True)\n",
    "\n",
    "print(\"Number of LP Actions in this pool:\",len(lp_action))\n",
    "lp_action.head()"
   ]
  },
  {
   "cell_type": "markdown",
   "metadata": {},
   "source": [
    "# Match Withdrawal with Deposition"
   ]
  },
  {
   "cell_type": "code",
   "execution_count": 4,
   "metadata": {},
   "outputs": [
    {
     "data": {
      "text/plain": [
       "'\\ntoken_transfer = pd.read_csv(os.path.join(data_dir, \"uniswapv3_NFT\", pool_name + \".csv\"))\\ntoken_transfer.columns = [x.upper() for x in token_transfer.columns.tolist()]\\ntoken_transfer = token_transfer.sort_values(by = [\\'TOKENID\\',\\'BLOCK_NUMBER\\'])\\n\\ntoken_transfer = token_transfer[token_transfer[\\'BLOCK_NUMBER\\'] <= lp_action[\\'BLOCK_NUMBER\\'].max()]\\n\\ntoken_transfer.head()\\n\\ninitial = token_transfer.loc[token_transfer[\\'NFT_FROM_ADDRESS\\'] == \\'0x0000000000000000000000000000000000000000\\',[\\'TOKENID\\',\\'TX_HASH\\',\\'NFT_TO_ADDRESS\\']]\\ninitial[\\'EVENT_NAME\\'] = \\'Increase Liquidity\\'\\n\\nfinal = token_transfer.groupby([\\'TOKENID\\'])[[\\'TOKENID\\',\\'TX_HASH\\',\\'NFT_TO_ADDRESS\\']].tail(1)\\nfinal[\\'EVENT_NAME\\'] = \\'Decrease Liquidity\\'\\n\\ntoken_transfer = pd.concat([initial,final], axis = 0)\\ntoken_transfer.sort_values(by = [\\'TOKENID\\'], inplace = True)\\ntoken_transfer.rename(columns = {\\'NFT_TO_ADDRESS\\':\\'SENDER\\'}, inplace = True)\\n\\ntoken_transfer.head()\\n'"
      ]
     },
     "execution_count": 4,
     "metadata": {},
     "output_type": "execute_result"
    }
   ],
   "source": [
    "\"\"\"\n",
    "token_transfer = pd.read_csv(os.path.join(data_dir, \"Data\", \"uniswapv3_NFT\", pool_name + \".csv\"))\n",
    "token_transfer.columns = [x.upper() for x in token_transfer.columns.tolist()]\n",
    "token_transfer = token_transfer.sort_values(by = ['TOKENID','BLOCK_NUMBER'])\n",
    "\n",
    "token_transfer = token_transfer[token_transfer['BLOCK_NUMBER'] <= lp_action['BLOCK_NUMBER'].max()]\n",
    "\n",
    "token_transfer.head()\n",
    "\n",
    "initial = token_transfer.loc[token_transfer['NFT_FROM_ADDRESS'] == '0x0000000000000000000000000000000000000000',['TOKENID','TX_HASH','NFT_TO_ADDRESS']]\n",
    "initial['EVENT_NAME'] = 'Increase Liquidity'\n",
    "\n",
    "final = token_transfer.groupby(['TOKENID'])[['TOKENID','TX_HASH','NFT_TO_ADDRESS']].tail(1)\n",
    "final['EVENT_NAME'] = 'Decrease Liquidity'\n",
    "\n",
    "token_transfer = pd.concat([initial,final], axis = 0)\n",
    "token_transfer.sort_values(by = ['TOKENID'], inplace = True)\n",
    "token_transfer.rename(columns = {'NFT_TO_ADDRESS':'SENDER'}, inplace = True)\n",
    "\n",
    "token_transfer.head()\n",
    "\"\"\""
   ]
  },
  {
   "cell_type": "markdown",
   "metadata": {},
   "source": [
    "Merge token_transfer into lp_action."
   ]
  },
  {
   "attachments": {},
   "cell_type": "markdown",
   "metadata": {},
   "source": [
    "# Add Liquidity Parameter"
   ]
  },
  {
   "cell_type": "code",
   "execution_count": 5,
   "metadata": {},
   "outputs": [
    {
     "name": "stdout",
     "output_type": "stream",
     "text": [
      "Working on row: 0\n",
      "Working on row: 10000\n",
      "Working on row: 20000\n",
      "Working on row: 30000\n"
     ]
    }
   ],
   "source": [
    "with mp.Pool(10) as pool:\n",
    "    result = pool.imap(Get_Liquidity_Parameter, lp_action[['AMOUNT1_ADJUSTED','AMOUNT0_ADJUSTED','PRICE_LOWER','PRICE_UPPER']].iterrows(), chunksize = 1)\n",
    "    output = [x for x in result]\n",
    "\n",
    "lp_action['L'] = output"
   ]
  },
  {
   "cell_type": "code",
   "execution_count": 6,
   "metadata": {},
   "outputs": [],
   "source": [
    "lp_action.to_csv(os.path.join(data_dir, \"uniswapv3_lp_action_LP\", pool_name + \"_LP.csv\"), index=False)"
   ]
  }
 ],
 "metadata": {
  "kernelspec": {
   "display_name": "Python 3",
   "language": "python",
   "name": "python3"
  },
  "language_info": {
   "codemirror_mode": {
    "name": "ipython",
    "version": 3
   },
   "file_extension": ".py",
   "mimetype": "text/x-python",
   "name": "python",
   "nbconvert_exporter": "python",
   "pygments_lexer": "ipython3",
   "version": "3.9.15"
  },
  "orig_nbformat": 4
 },
 "nbformat": 4,
 "nbformat_minor": 2
}
