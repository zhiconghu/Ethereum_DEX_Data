{
 "cells": [
  {
   "cell_type": "code",
   "execution_count": 1,
   "metadata": {},
   "outputs": [],
   "source": [
    "import numpy as np\n",
    "import pandas as pd\n",
    "import os\n",
    "import matplotlib.pyplot as plt\n",
    "import pyarrow.parquet as pq\n",
    "import datetime as dt\n",
    "\n",
    "from sympy import symbols, Symbol, Eq, nsolve, solve, sqrt\n",
    "from decimal import Decimal, getcontext\n",
    "\n",
    "import multiprocessing as mp\n",
    "\n",
    "from LP_Action_Liquidity_Parameter_Function import Get_Liquidity_Parameter, Get_Price\n",
    "\n",
    "data_dir = '/Users/zhicong/Dropbox/DEXs'\n",
    "pool_name = 'WETH-USDT 100 1'"
   ]
  },
  {
   "attachments": {},
   "cell_type": "markdown",
   "metadata": {},
   "source": [
    "# LP Action\n",
    "\n",
    "We import all LP actions and conduct basic cleaning."
   ]
  },
  {
   "cell_type": "code",
   "execution_count": 2,
   "metadata": {},
   "outputs": [
    {
     "name": "stdout",
     "output_type": "stream",
     "text": [
      "Number of LP Actions in this pool: 9\n"
     ]
    },
    {
     "data": {
      "text/html": [
       "<div>\n",
       "<style scoped>\n",
       "    .dataframe tbody tr th:only-of-type {\n",
       "        vertical-align: middle;\n",
       "    }\n",
       "\n",
       "    .dataframe tbody tr th {\n",
       "        vertical-align: top;\n",
       "    }\n",
       "\n",
       "    .dataframe thead th {\n",
       "        text-align: right;\n",
       "    }\n",
       "</style>\n",
       "<table border=\"1\" class=\"dataframe\">\n",
       "  <thead>\n",
       "    <tr style=\"text-align: right;\">\n",
       "      <th></th>\n",
       "      <th>POOL_NAME</th>\n",
       "      <th>TX_HASH</th>\n",
       "      <th>EVENT_NAME</th>\n",
       "      <th>BLOCK_NUMBER</th>\n",
       "      <th>BLOCK_TIMESTAMP</th>\n",
       "      <th>SENDER</th>\n",
       "      <th>NF_TOKEN_ID</th>\n",
       "      <th>AMOUNT0_ADJUSTED</th>\n",
       "      <th>TOKEN0_SYMBOL</th>\n",
       "      <th>AMOUNT0_USD</th>\n",
       "      <th>AMOUNT1_ADJUSTED</th>\n",
       "      <th>TOKEN1_SYMBOL</th>\n",
       "      <th>AMOUNT1_USD</th>\n",
       "      <th>TICK_LOWER</th>\n",
       "      <th>TICK_UPPER</th>\n",
       "      <th>PRICE_LOWER</th>\n",
       "      <th>PRICE_UPPER</th>\n",
       "    </tr>\n",
       "  </thead>\n",
       "  <tbody>\n",
       "    <tr>\n",
       "      <th>0</th>\n",
       "      <td>WETH-USDT 100 1</td>\n",
       "      <td>0x151e7360d01ccc21204b281064ce4fd3b9f808cff627...</td>\n",
       "      <td>Increase Liquidity</td>\n",
       "      <td>16266586</td>\n",
       "      <td>2022-12-26 04:37:47</td>\n",
       "      <td>0x611350945b214a8fba2c0270ac04a83c342e79b7</td>\n",
       "      <td>398381</td>\n",
       "      <td>27.257696</td>\n",
       "      <td>WETH</td>\n",
       "      <td>33324.714445</td>\n",
       "      <td>33252.433782</td>\n",
       "      <td>USDT</td>\n",
       "      <td>33252.433782</td>\n",
       "      <td>-214418</td>\n",
       "      <td>-196092</td>\n",
       "      <td>327900119205463785472</td>\n",
       "      <td>2049225966470396641280</td>\n",
       "    </tr>\n",
       "    <tr>\n",
       "      <th>1</th>\n",
       "      <td>WETH-USDT 100 1</td>\n",
       "      <td>0x64a091d54a078ff228888153301cafc80e14a834f2db...</td>\n",
       "      <td>Decrease Liquidity</td>\n",
       "      <td>16269858</td>\n",
       "      <td>2022-12-26 15:35:35</td>\n",
       "      <td>0x611350945b214a8fba2c0270ac04a83c342e79b7</td>\n",
       "      <td>398381</td>\n",
       "      <td>27.348674</td>\n",
       "      <td>WETH</td>\n",
       "      <td>33236.023364</td>\n",
       "      <td>33141.583286</td>\n",
       "      <td>USDT</td>\n",
       "      <td>33133.264749</td>\n",
       "      <td>-214418</td>\n",
       "      <td>-196092</td>\n",
       "      <td>327900119205463785472</td>\n",
       "      <td>2049225966470396641280</td>\n",
       "    </tr>\n",
       "    <tr>\n",
       "      <th>2</th>\n",
       "      <td>WETH-USDT 100 1</td>\n",
       "      <td>0x2169ae9a2d3b57bc55b3ab722efbd619aefbe3b8ff0b...</td>\n",
       "      <td>Increase Liquidity</td>\n",
       "      <td>16683792</td>\n",
       "      <td>2023-02-22 11:49:35</td>\n",
       "      <td>0xd6de95b50dab7153a3ea8f48486ffd677231eeb5</td>\n",
       "      <td>449289</td>\n",
       "      <td>0.000100</td>\n",
       "      <td>WETH</td>\n",
       "      <td>0.164135</td>\n",
       "      <td>0.000000</td>\n",
       "      <td>USDT</td>\n",
       "      <td>0.000000</td>\n",
       "      <td>-205279</td>\n",
       "      <td>-205270</td>\n",
       "      <td>820950783345634836480</td>\n",
       "      <td>821689934661897945088</td>\n",
       "    </tr>\n",
       "    <tr>\n",
       "      <th>3</th>\n",
       "      <td>WETH-USDT 100 1</td>\n",
       "      <td>0x36b3051efdcb3c689c87ffe09158c9f77152093678f3...</td>\n",
       "      <td>Increase Liquidity</td>\n",
       "      <td>16838920</td>\n",
       "      <td>2023-03-16 07:25:59</td>\n",
       "      <td>0x8d890268e48d96482f6f1adfb99ac138486e0b7c</td>\n",
       "      <td>466591</td>\n",
       "      <td>0.000880</td>\n",
       "      <td>WETH</td>\n",
       "      <td>1.463315</td>\n",
       "      <td>1.100000</td>\n",
       "      <td>USDT</td>\n",
       "      <td>1.100000</td>\n",
       "      <td>-205286</td>\n",
       "      <td>-205266</td>\n",
       "      <td>820622485110958718976</td>\n",
       "      <td>822265290199809523712</td>\n",
       "    </tr>\n",
       "    <tr>\n",
       "      <th>4</th>\n",
       "      <td>WETH-USDT 100 1</td>\n",
       "      <td>0xfcbddd5399791dc09e819e422b50bf5ad019ed2748b0...</td>\n",
       "      <td>Increase Liquidity</td>\n",
       "      <td>16919349</td>\n",
       "      <td>2023-03-27 14:35:35</td>\n",
       "      <td>0xf25fbc15a3ce8fbe040517748a92e5030ef6839e</td>\n",
       "      <td>477147</td>\n",
       "      <td>0.088644</td>\n",
       "      <td>WETH</td>\n",
       "      <td>154.862321</td>\n",
       "      <td>50.000000</td>\n",
       "      <td>USDT</td>\n",
       "      <td>49.892850</td>\n",
       "      <td>-209475</td>\n",
       "      <td>-194715</td>\n",
       "      <td>285721034778838237184</td>\n",
       "      <td>1250054134368222838784</td>\n",
       "    </tr>\n",
       "  </tbody>\n",
       "</table>\n",
       "</div>"
      ],
      "text/plain": [
       "         POOL_NAME                                            TX_HASH  \\\n",
       "0  WETH-USDT 100 1  0x151e7360d01ccc21204b281064ce4fd3b9f808cff627...   \n",
       "1  WETH-USDT 100 1  0x64a091d54a078ff228888153301cafc80e14a834f2db...   \n",
       "2  WETH-USDT 100 1  0x2169ae9a2d3b57bc55b3ab722efbd619aefbe3b8ff0b...   \n",
       "3  WETH-USDT 100 1  0x36b3051efdcb3c689c87ffe09158c9f77152093678f3...   \n",
       "4  WETH-USDT 100 1  0xfcbddd5399791dc09e819e422b50bf5ad019ed2748b0...   \n",
       "\n",
       "           EVENT_NAME  BLOCK_NUMBER     BLOCK_TIMESTAMP  \\\n",
       "0  Increase Liquidity      16266586 2022-12-26 04:37:47   \n",
       "1  Decrease Liquidity      16269858 2022-12-26 15:35:35   \n",
       "2  Increase Liquidity      16683792 2023-02-22 11:49:35   \n",
       "3  Increase Liquidity      16838920 2023-03-16 07:25:59   \n",
       "4  Increase Liquidity      16919349 2023-03-27 14:35:35   \n",
       "\n",
       "                                       SENDER NF_TOKEN_ID  AMOUNT0_ADJUSTED  \\\n",
       "0  0x611350945b214a8fba2c0270ac04a83c342e79b7      398381         27.257696   \n",
       "1  0x611350945b214a8fba2c0270ac04a83c342e79b7      398381         27.348674   \n",
       "2  0xd6de95b50dab7153a3ea8f48486ffd677231eeb5      449289          0.000100   \n",
       "3  0x8d890268e48d96482f6f1adfb99ac138486e0b7c      466591          0.000880   \n",
       "4  0xf25fbc15a3ce8fbe040517748a92e5030ef6839e      477147          0.088644   \n",
       "\n",
       "  TOKEN0_SYMBOL   AMOUNT0_USD  AMOUNT1_ADJUSTED TOKEN1_SYMBOL   AMOUNT1_USD  \\\n",
       "0          WETH  33324.714445      33252.433782          USDT  33252.433782   \n",
       "1          WETH  33236.023364      33141.583286          USDT  33133.264749   \n",
       "2          WETH      0.164135          0.000000          USDT      0.000000   \n",
       "3          WETH      1.463315          1.100000          USDT      1.100000   \n",
       "4          WETH    154.862321         50.000000          USDT     49.892850   \n",
       "\n",
       "   TICK_LOWER  TICK_UPPER            PRICE_LOWER             PRICE_UPPER  \n",
       "0     -214418     -196092  327900119205463785472  2049225966470396641280  \n",
       "1     -214418     -196092  327900119205463785472  2049225966470396641280  \n",
       "2     -205279     -205270  820950783345634836480   821689934661897945088  \n",
       "3     -205286     -205266  820622485110958718976   822265290199809523712  \n",
       "4     -209475     -194715  285721034778838237184  1250054134368222838784  "
      ]
     },
     "execution_count": 2,
     "metadata": {},
     "output_type": "execute_result"
    }
   ],
   "source": [
    "lp_action = pd.read_csv(os.path.join(data_dir, \"uniswapv3_lp_actions\", pool_name + \".csv\"))\n",
    "lp_action.columns = [x.upper() for x in lp_action.columns.tolist()]\n",
    "lp_action.dropna(subset = ['AMOUNT0_USD','AMOUNT1_USD'], inplace = True)\n",
    "\n",
    "# Final cleaning\n",
    "lp_action['BLOCK_NUMBER'] = lp_action['BLOCK_NUMBER'].astype(int)\n",
    "lp_action.sort_values(by = ['BLOCK_NUMBER'], ascending = False, inplace = True)\n",
    "lp_action['AMOUNT0_ADJUSTED'] = lp_action['AMOUNT0_ADJUSTED'].astype(float)\n",
    "lp_action['AMOUNT1_ADJUSTED'] = lp_action['AMOUNT1_ADJUSTED'].astype(float)\n",
    "lp_action['BLOCK_TIMESTAMP'] = pd.to_datetime([x[:-5] for x in lp_action['BLOCK_TIMESTAMP'].astype(str)])\n",
    "lp_action = lp_action[(lp_action['AMOUNT0_ADJUSTED'] != 0) | (lp_action['AMOUNT1_ADJUSTED'] != 0)]\n",
    "lp_action['NF_TOKEN_ID'] = lp_action['NF_TOKEN_ID'].apply(str).str.replace('.0','', regex = False)\n",
    "\n",
    "# Changing signs of addition and extraction\n",
    "lp_action['ACTION'] = lp_action['ACTION'].replace({'INCREASE_LIQUIDITY':'Increase Liquidity',\n",
    "                                                   'DECREASE_LIQUIDITY':'Decrease Liquidity'})\n",
    "lp_action.rename(columns = {'LIQUIDITY_PROVIDER':'SENDER', 'ACTION':'EVENT_NAME'}, inplace = True)\n",
    "\n",
    "# Get lower and upper price from tick\n",
    "lp_action['PRICE_LOWER'] = lp_action['TICK_UPPER'].apply(Get_Price)\n",
    "lp_action['PRICE_UPPER'] = lp_action['TICK_LOWER'].apply(Get_Price)\n",
    "\n",
    "# Reverse to make sure LPs are sorted in the same order as they are executed\n",
    "lp_action = lp_action.iloc[::-1]\n",
    "lp_action.reset_index(drop = True, inplace = True)\n",
    "\n",
    "print(\"Number of LP Actions in this pool:\",len(lp_action))\n",
    "lp_action.head()"
   ]
  },
  {
   "cell_type": "markdown",
   "metadata": {},
   "source": [
    "# Match Withdrawal with Deposition"
   ]
  },
  {
   "cell_type": "code",
   "execution_count": 3,
   "metadata": {},
   "outputs": [
    {
     "data": {
      "text/plain": [
       "'\\ntoken_transfer = pd.read_csv(os.path.join(data_dir, \"uniswapv3_NFT\", pool_name + \".csv\"))\\ntoken_transfer.columns = [x.upper() for x in token_transfer.columns.tolist()]\\ntoken_transfer = token_transfer.sort_values(by = [\\'TOKENID\\',\\'BLOCK_NUMBER\\'])\\n\\ntoken_transfer = token_transfer[token_transfer[\\'BLOCK_NUMBER\\'] <= lp_action[\\'BLOCK_NUMBER\\'].max()]\\n\\ntoken_transfer.head()\\n\\ninitial = token_transfer.loc[token_transfer[\\'NFT_FROM_ADDRESS\\'] == \\'0x0000000000000000000000000000000000000000\\',[\\'TOKENID\\',\\'TX_HASH\\',\\'NFT_TO_ADDRESS\\']]\\ninitial[\\'EVENT_NAME\\'] = \\'Increase Liquidity\\'\\n\\nfinal = token_transfer.groupby([\\'TOKENID\\'])[[\\'TOKENID\\',\\'TX_HASH\\',\\'NFT_TO_ADDRESS\\']].tail(1)\\nfinal[\\'EVENT_NAME\\'] = \\'Decrease Liquidity\\'\\n\\ntoken_transfer = pd.concat([initial,final], axis = 0)\\ntoken_transfer.sort_values(by = [\\'TOKENID\\'], inplace = True)\\ntoken_transfer.rename(columns = {\\'NFT_TO_ADDRESS\\':\\'SENDER\\'}, inplace = True)\\n\\ntoken_transfer.head()\\n'"
      ]
     },
     "execution_count": 3,
     "metadata": {},
     "output_type": "execute_result"
    }
   ],
   "source": [
    "\"\"\"\n",
    "token_transfer = pd.read_csv(os.path.join(data_dir, \"uniswapv3_NFT\", pool_name + \".csv\"))\n",
    "token_transfer.columns = [x.upper() for x in token_transfer.columns.tolist()]\n",
    "token_transfer = token_transfer.sort_values(by = ['TOKENID','BLOCK_NUMBER'])\n",
    "\n",
    "token_transfer = token_transfer[token_transfer['BLOCK_NUMBER'] <= lp_action['BLOCK_NUMBER'].max()]\n",
    "\n",
    "token_transfer.head()\n",
    "\n",
    "initial = token_transfer.loc[token_transfer['NFT_FROM_ADDRESS'] == '0x0000000000000000000000000000000000000000',['TOKENID','TX_HASH','NFT_TO_ADDRESS']]\n",
    "initial['EVENT_NAME'] = 'Increase Liquidity'\n",
    "\n",
    "final = token_transfer.groupby(['TOKENID'])[['TOKENID','TX_HASH','NFT_TO_ADDRESS']].tail(1)\n",
    "final['EVENT_NAME'] = 'Decrease Liquidity'\n",
    "\n",
    "token_transfer = pd.concat([initial,final], axis = 0)\n",
    "token_transfer.sort_values(by = ['TOKENID'], inplace = True)\n",
    "token_transfer.rename(columns = {'NFT_TO_ADDRESS':'SENDER'}, inplace = True)\n",
    "\n",
    "token_transfer.head()\n",
    "\"\"\""
   ]
  },
  {
   "cell_type": "markdown",
   "metadata": {},
   "source": [
    "Merge token_transfer into lp_action."
   ]
  },
  {
   "attachments": {},
   "cell_type": "markdown",
   "metadata": {},
   "source": [
    "# Add Liquidity Parameter"
   ]
  },
  {
   "cell_type": "code",
   "execution_count": 4,
   "metadata": {},
   "outputs": [
    {
     "name": "stdout",
     "output_type": "stream",
     "text": [
      "Working on row: 0\n"
     ]
    }
   ],
   "source": [
    "with mp.Pool(10) as pool:\n",
    "    result = pool.imap(Get_Liquidity_Parameter, lp_action[['AMOUNT1_ADJUSTED','AMOUNT0_ADJUSTED','PRICE_LOWER','PRICE_UPPER']].iterrows(), chunksize = 1)\n",
    "    output = [x for x in result]\n",
    "\n",
    "lp_action['L'] = output"
   ]
  },
  {
   "cell_type": "code",
   "execution_count": 5,
   "metadata": {},
   "outputs": [],
   "source": [
    "lp_action.to_csv(os.path.join(data_dir, \"uniswapv3_lp_action_LP\", pool_name + \"_LP.csv\"), index=False)"
   ]
  }
 ],
 "metadata": {
  "kernelspec": {
   "display_name": "Python 3",
   "language": "python",
   "name": "python3"
  },
  "language_info": {
   "codemirror_mode": {
    "name": "ipython",
    "version": 3
   },
   "file_extension": ".py",
   "mimetype": "text/x-python",
   "name": "python",
   "nbconvert_exporter": "python",
   "pygments_lexer": "ipython3",
   "version": "3.9.15"
  },
  "orig_nbformat": 4
 },
 "nbformat": 4,
 "nbformat_minor": 2
}
