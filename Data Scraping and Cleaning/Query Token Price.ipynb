{
 "cells": [
  {
   "cell_type": "code",
   "execution_count": 1,
   "metadata": {},
   "outputs": [],
   "source": [
    "import numpy as np\n",
    "import pandas as pd\n",
    "import os\n",
    "import matplotlib.pyplot as plt\n",
    "\n",
    "from flipside import Flipside\n",
    "flipside = Flipside(\"023b83a2-e411-4849-a961-3742c87bc9c9\", \"https://api-v2.flipsidecrypto.xyz\")"
   ]
  },
  {
   "cell_type": "markdown",
   "metadata": {},
   "source": [
    "We first set the symbol of the token we want to query data from."
   ]
  },
  {
   "cell_type": "code",
   "execution_count": 2,
   "metadata": {},
   "outputs": [],
   "source": [
    "token = \"WETH\""
   ]
  },
  {
   "cell_type": "markdown",
   "metadata": {},
   "source": [
    "This write the sql code and start query."
   ]
  },
  {
   "cell_type": "code",
   "execution_count": 3,
   "metadata": {},
   "outputs": [
    {
     "data": {
      "text/html": [
       "<div>\n",
       "<style scoped>\n",
       "    .dataframe tbody tr th:only-of-type {\n",
       "        vertical-align: middle;\n",
       "    }\n",
       "\n",
       "    .dataframe tbody tr th {\n",
       "        vertical-align: top;\n",
       "    }\n",
       "\n",
       "    .dataframe thead th {\n",
       "        text-align: right;\n",
       "    }\n",
       "</style>\n",
       "<table border=\"1\" class=\"dataframe\">\n",
       "  <thead>\n",
       "    <tr style=\"text-align: right;\">\n",
       "      <th></th>\n",
       "      <th>hour</th>\n",
       "      <th>symbol</th>\n",
       "      <th>price</th>\n",
       "    </tr>\n",
       "  </thead>\n",
       "  <tbody>\n",
       "    <tr>\n",
       "      <th>26513</th>\n",
       "      <td>2020-05-05 02:00:00+00:00</td>\n",
       "      <td>WETH</td>\n",
       "      <td>207.022268</td>\n",
       "    </tr>\n",
       "    <tr>\n",
       "      <th>26512</th>\n",
       "      <td>2020-05-05 03:00:00+00:00</td>\n",
       "      <td>WETH</td>\n",
       "      <td>207.983914</td>\n",
       "    </tr>\n",
       "    <tr>\n",
       "      <th>13872</th>\n",
       "      <td>2020-05-05 04:00:00+00:00</td>\n",
       "      <td>WETH</td>\n",
       "      <td>210.544355</td>\n",
       "    </tr>\n",
       "    <tr>\n",
       "      <th>22066</th>\n",
       "      <td>2020-05-05 05:00:00+00:00</td>\n",
       "      <td>WETH</td>\n",
       "      <td>209.690841</td>\n",
       "    </tr>\n",
       "    <tr>\n",
       "      <th>4767</th>\n",
       "      <td>2020-05-05 06:00:00+00:00</td>\n",
       "      <td>WETH</td>\n",
       "      <td>209.010651</td>\n",
       "    </tr>\n",
       "    <tr>\n",
       "      <th>9176</th>\n",
       "      <td>2020-05-05 07:00:00+00:00</td>\n",
       "      <td>WETH</td>\n",
       "      <td>209.010651</td>\n",
       "    </tr>\n",
       "    <tr>\n",
       "      <th>26514</th>\n",
       "      <td>2020-05-05 08:00:00+00:00</td>\n",
       "      <td>WETH</td>\n",
       "      <td>209.010651</td>\n",
       "    </tr>\n",
       "    <tr>\n",
       "      <th>8387</th>\n",
       "      <td>2020-05-05 09:00:00+00:00</td>\n",
       "      <td>WETH</td>\n",
       "      <td>209.533282</td>\n",
       "    </tr>\n",
       "    <tr>\n",
       "      <th>9373</th>\n",
       "      <td>2020-05-05 10:00:00+00:00</td>\n",
       "      <td>WETH</td>\n",
       "      <td>209.533282</td>\n",
       "    </tr>\n",
       "    <tr>\n",
       "      <th>13874</th>\n",
       "      <td>2020-05-05 11:00:00+00:00</td>\n",
       "      <td>WETH</td>\n",
       "      <td>209.533282</td>\n",
       "    </tr>\n",
       "  </tbody>\n",
       "</table>\n",
       "</div>"
      ],
      "text/plain": [
       "                           hour symbol       price\n",
       "26513 2020-05-05 02:00:00+00:00   WETH  207.022268\n",
       "26512 2020-05-05 03:00:00+00:00   WETH  207.983914\n",
       "13872 2020-05-05 04:00:00+00:00   WETH  210.544355\n",
       "22066 2020-05-05 05:00:00+00:00   WETH  209.690841\n",
       "4767  2020-05-05 06:00:00+00:00   WETH  209.010651\n",
       "9176  2020-05-05 07:00:00+00:00   WETH  209.010651\n",
       "26514 2020-05-05 08:00:00+00:00   WETH  209.010651\n",
       "8387  2020-05-05 09:00:00+00:00   WETH  209.533282\n",
       "9373  2020-05-05 10:00:00+00:00   WETH  209.533282\n",
       "13874 2020-05-05 11:00:00+00:00   WETH  209.533282"
      ]
     },
     "execution_count": 3,
     "metadata": {},
     "output_type": "execute_result"
    }
   ],
   "source": [
    "sql = \"\"\"\n",
    "SELECT HOUR, SYMBOL, PRICE\n",
    "FROM ethereum.core.fact_hourly_token_prices\n",
    "\"\"\" +\\\n",
    "\"WHERE SYMBOL = '\" + token + \"'\" \n",
    "\n",
    "query_result_set = flipside.query(sql, page_number = 1, page_size = 50000)\n",
    "\n",
    "current_page_number = 1\n",
    "page_size = 50000\n",
    "total_pages = 2\n",
    "\n",
    "# All the data will be stored in a list called \"all_rows\"\n",
    "all_rows = []\n",
    "\n",
    "while current_page_number <= total_pages:\n",
    "  results = flipside.get_query_results(\n",
    "    query_result_set.query_id,\n",
    "    page_number=current_page_number,\n",
    "    page_size=page_size\n",
    "  )\n",
    "\n",
    "  total_pages = results.page.totalPages\n",
    "  if results.records:\n",
    "      all_rows = all_rows + results.records\n",
    "  \n",
    "  current_page_number += 1\n",
    "\n",
    "# Merge all rows to a dataframe\n",
    "df = pd.DataFrame(all_rows)\n",
    "df.drop(columns = ['__row_index'], inplace = True)\n",
    "df['hour'] = pd.to_datetime(df['hour'])\n",
    "df.sort_values(by = ['hour'], inplace = True)\n",
    "df.head(10)"
   ]
  },
  {
   "cell_type": "markdown",
   "metadata": {},
   "source": [
    "Lastly, we save the file."
   ]
  },
  {
   "cell_type": "code",
   "execution_count": 4,
   "metadata": {},
   "outputs": [],
   "source": [
    "df.to_csv(\"/Users/zhicong/Dropbox/DEXs/token_prices/\" + token + \".csv\", index=False)"
   ]
  }
 ],
 "metadata": {
  "kernelspec": {
   "display_name": "Python 3",
   "language": "python",
   "name": "python3"
  },
  "language_info": {
   "codemirror_mode": {
    "name": "ipython",
    "version": 3
   },
   "file_extension": ".py",
   "mimetype": "text/x-python",
   "name": "python",
   "nbconvert_exporter": "python",
   "pygments_lexer": "ipython3",
   "version": "3.9.15"
  },
  "orig_nbformat": 4
 },
 "nbformat": 4,
 "nbformat_minor": 2
}
