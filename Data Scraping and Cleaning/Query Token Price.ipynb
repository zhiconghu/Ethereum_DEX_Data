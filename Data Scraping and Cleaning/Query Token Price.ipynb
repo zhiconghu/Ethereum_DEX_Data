{
 "cells": [
  {
   "cell_type": "code",
   "execution_count": 1,
   "metadata": {},
   "outputs": [],
   "source": [
    "import numpy as np\n",
    "import pandas as pd\n",
    "import os\n",
    "import matplotlib.pyplot as plt\n",
    "\n",
    "from flipside import Flipside\n",
    "flipside = Flipside(\"023b83a2-e411-4849-a961-3742c87bc9c9\", \"https://api-v2.flipsidecrypto.xyz\")"
   ]
  },
  {
   "cell_type": "markdown",
   "metadata": {},
   "source": [
    "We first set the symbol of the token we want to query data from."
   ]
  },
  {
   "cell_type": "code",
   "execution_count": 2,
   "metadata": {},
   "outputs": [],
   "source": [
    "token = \"sETH2\""
   ]
  },
  {
   "cell_type": "markdown",
   "metadata": {},
   "source": [
    "This write the sql code and start query."
   ]
  },
  {
   "cell_type": "code",
   "execution_count": 3,
   "metadata": {},
   "outputs": [
    {
     "data": {
      "text/html": [
       "<div>\n",
       "<style scoped>\n",
       "    .dataframe tbody tr th:only-of-type {\n",
       "        vertical-align: middle;\n",
       "    }\n",
       "\n",
       "    .dataframe tbody tr th {\n",
       "        vertical-align: top;\n",
       "    }\n",
       "\n",
       "    .dataframe thead th {\n",
       "        text-align: right;\n",
       "    }\n",
       "</style>\n",
       "<table border=\"1\" class=\"dataframe\">\n",
       "  <thead>\n",
       "    <tr style=\"text-align: right;\">\n",
       "      <th></th>\n",
       "      <th>hour</th>\n",
       "      <th>symbol</th>\n",
       "      <th>price</th>\n",
       "    </tr>\n",
       "  </thead>\n",
       "  <tbody>\n",
       "    <tr>\n",
       "      <th>4654</th>\n",
       "      <td>2021-06-24 17:00:00+00:00</td>\n",
       "      <td>sETH2</td>\n",
       "      <td>1918.88</td>\n",
       "    </tr>\n",
       "    <tr>\n",
       "      <th>4653</th>\n",
       "      <td>2021-06-24 18:00:00+00:00</td>\n",
       "      <td>sETH2</td>\n",
       "      <td>1918.88</td>\n",
       "    </tr>\n",
       "    <tr>\n",
       "      <th>4651</th>\n",
       "      <td>2021-06-24 19:00:00+00:00</td>\n",
       "      <td>sETH2</td>\n",
       "      <td>1918.88</td>\n",
       "    </tr>\n",
       "    <tr>\n",
       "      <th>4656</th>\n",
       "      <td>2021-06-24 20:00:00+00:00</td>\n",
       "      <td>sETH2</td>\n",
       "      <td>1918.88</td>\n",
       "    </tr>\n",
       "    <tr>\n",
       "      <th>4657</th>\n",
       "      <td>2021-06-24 21:00:00+00:00</td>\n",
       "      <td>sETH2</td>\n",
       "      <td>1918.88</td>\n",
       "    </tr>\n",
       "    <tr>\n",
       "      <th>4655</th>\n",
       "      <td>2021-06-24 22:00:00+00:00</td>\n",
       "      <td>sETH2</td>\n",
       "      <td>1885.39</td>\n",
       "    </tr>\n",
       "    <tr>\n",
       "      <th>4652</th>\n",
       "      <td>2021-06-24 23:00:00+00:00</td>\n",
       "      <td>sETH2</td>\n",
       "      <td>1885.39</td>\n",
       "    </tr>\n",
       "    <tr>\n",
       "      <th>4679</th>\n",
       "      <td>2021-06-25 00:00:00+00:00</td>\n",
       "      <td>sETH2</td>\n",
       "      <td>1885.39</td>\n",
       "    </tr>\n",
       "    <tr>\n",
       "      <th>4677</th>\n",
       "      <td>2021-06-25 01:00:00+00:00</td>\n",
       "      <td>sETH2</td>\n",
       "      <td>1885.39</td>\n",
       "    </tr>\n",
       "    <tr>\n",
       "      <th>4672</th>\n",
       "      <td>2021-06-25 02:00:00+00:00</td>\n",
       "      <td>sETH2</td>\n",
       "      <td>1885.39</td>\n",
       "    </tr>\n",
       "  </tbody>\n",
       "</table>\n",
       "</div>"
      ],
      "text/plain": [
       "                          hour symbol    price\n",
       "4654 2021-06-24 17:00:00+00:00  sETH2  1918.88\n",
       "4653 2021-06-24 18:00:00+00:00  sETH2  1918.88\n",
       "4651 2021-06-24 19:00:00+00:00  sETH2  1918.88\n",
       "4656 2021-06-24 20:00:00+00:00  sETH2  1918.88\n",
       "4657 2021-06-24 21:00:00+00:00  sETH2  1918.88\n",
       "4655 2021-06-24 22:00:00+00:00  sETH2  1885.39\n",
       "4652 2021-06-24 23:00:00+00:00  sETH2  1885.39\n",
       "4679 2021-06-25 00:00:00+00:00  sETH2  1885.39\n",
       "4677 2021-06-25 01:00:00+00:00  sETH2  1885.39\n",
       "4672 2021-06-25 02:00:00+00:00  sETH2  1885.39"
      ]
     },
     "execution_count": 3,
     "metadata": {},
     "output_type": "execute_result"
    }
   ],
   "source": [
    "sql = \"\"\"\n",
    "SELECT HOUR, SYMBOL, PRICE\n",
    "FROM ethereum.core.fact_hourly_token_prices\n",
    "\"\"\" +\\\n",
    "\"WHERE SYMBOL = '\" + token + \"'\" \n",
    "\n",
    "query_result_set = flipside.query(sql, page_number = 1, page_size = 50000)\n",
    "\n",
    "current_page_number = 1\n",
    "page_size = 50000\n",
    "total_pages = 2\n",
    "\n",
    "# All the data will be stored in a list called \"all_rows\"\n",
    "all_rows = []\n",
    "\n",
    "while current_page_number <= total_pages:\n",
    "  results = flipside.get_query_results(\n",
    "    query_result_set.query_id,\n",
    "    page_number=current_page_number,\n",
    "    page_size=page_size\n",
    "  )\n",
    "\n",
    "  total_pages = results.page.totalPages\n",
    "  if results.records:\n",
    "      all_rows = all_rows + results.records\n",
    "  \n",
    "  current_page_number += 1\n",
    "\n",
    "# Merge all rows to a dataframe\n",
    "df = pd.DataFrame(all_rows)\n",
    "df.drop(columns = ['__row_index'], inplace = True)\n",
    "df['hour'] = pd.to_datetime(df['hour'])\n",
    "df.sort_values(by = ['hour'], inplace = True)\n",
    "df.head(10)"
   ]
  },
  {
   "cell_type": "markdown",
   "metadata": {},
   "source": [
    "Lastly, we save the file."
   ]
  },
  {
   "cell_type": "code",
   "execution_count": 4,
   "metadata": {},
   "outputs": [],
   "source": [
    "df.to_csv(\"/Users/zhicong/Dropbox/DEXs/Data/token_prices/\" + token + \".csv\", index=False)"
   ]
  }
 ],
 "metadata": {
  "kernelspec": {
   "display_name": "Python 3",
   "language": "python",
   "name": "python3"
  },
  "language_info": {
   "codemirror_mode": {
    "name": "ipython",
    "version": 3
   },
   "file_extension": ".py",
   "mimetype": "text/x-python",
   "name": "python",
   "nbconvert_exporter": "python",
   "pygments_lexer": "ipython3",
   "version": "3.9.15"
  },
  "orig_nbformat": 4
 },
 "nbformat": 4,
 "nbformat_minor": 2
}
