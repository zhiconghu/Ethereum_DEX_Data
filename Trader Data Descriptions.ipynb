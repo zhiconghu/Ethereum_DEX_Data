{
 "cells": [
  {
   "cell_type": "code",
   "execution_count": null,
   "metadata": {},
   "outputs": [],
   "source": [
    "import numpy as np\n",
    "import pandas as pd\n",
    "import os\n",
    "import pyarrow.parquet as pq\n",
    "import datetime as dt\n",
    "import networkx as nx\n",
    "\n",
    "from plotnine import *\n",
    "from mizani.formatters import percent_format, date_format\n",
    "from mizani.breaks import date_breaks\n",
    "\n",
    "import math\n",
    "from sympy import symbols, Symbol, Eq, nsolve, solve, sqrt\n",
    "from decimal import Decimal, getcontext\n",
    "getcontext().prec = 50\n",
    "\n",
    "data_dir = '/Users/zhicong/Dropbox/DEXs'\n",
    "pool_name = ['DAI-USDC 100 1', 'DAI-USDC 500 10','DAI-USDC 3000 60', 'FRAX-USDC 100 1', 'FRAX-USDC 500 10','FRAX-USDC 3000 60',\n",
    "             'USDC-USDT 100 1', 'USDC-USDT 500 10','USDC-USDT 3000 60', 'USDC-WETH 100 1', 'USDC-WETH 500 10','USDC-WETH 3000 60',\n",
    "             'WBTC-WETH 100 1', 'WBTC-WETH 500 10','WBTC-WETH 3000 60', 'WETH-sETH2 500 10','WETH-sETH2 3000 60',\n",
    "             'WETH-USDT 100 1', 'WETH-USDT 500 10','WETH-USDT 3000 60',]"
   ]
  },
  {
   "cell_type": "markdown",
   "metadata": {},
   "source": [
    "# Load Data"
   ]
  },
  {
   "cell_type": "code",
   "execution_count": null,
   "metadata": {},
   "outputs": [],
   "source": [
    "swaps = pd.DataFrame(columns = ['BLOCK_NUMBER','BLOCK_TIMESTAMP','TX_HASH','SENDER','TX_TO','PLATFORM','POOL_NAME','CONTRACT_ADDRESS',\n",
    "                                'EVENT_NAME','AMOUNT_IN','SYMBOL_IN','AMOUNT_OUT','SYMBOL_OUT'])\n",
    "\n",
    "parquet_file = pq.ParquetFile(os.path.join(data_dir, \"dex_swaps\", \"DEXs_swaps_full.gzip\"))\n",
    "# Read by batch to be able to fit dataframe into memory\n",
    "for i in parquet_file.iter_batches(batch_size = 1000000):\n",
    "\n",
    "    # Filter out only tokens we want\n",
    "    temp = i.to_pandas()\n",
    "    temp = temp[temp['POOL_NAME'].isin(pool_name)]\n",
    "\n",
    "    swaps = pd.concat([swaps,temp], axis = 0)\n",
    "    del temp\n",
    "\n",
    "# Final cleaning\n",
    "swaps.reset_index(drop = True, inplace = True)\n",
    "swaps['BLOCK_NUMBER'] = swaps['BLOCK_NUMBER'].astype(int)\n",
    "swaps['AMOUNT_IN'] = swaps['AMOUNT_IN'].astype(float)\n",
    "swaps['AMOUNT_OUT'] = swaps['AMOUNT_OUT'].astype(float)\n",
    "swaps['BLOCK_TIMESTAMP'] = pd.to_datetime(swaps['BLOCK_TIMESTAMP'])\n",
    "\n",
    "# Since the pool charges a transaction fee of 5 basis point on the incoming token, and stored it elsewhere (not in liquidity pool), we subtract that\n",
    "#swaps['AMOUNT_IN'] = swaps['AMOUNT_IN']*(1-0.0005)\n",
    "\n",
    "# Changing signs of addition and extraction\n",
    "swaps['AMOUNT_OUT'] = -swaps['AMOUNT_OUT']\n",
    "swaps['AMOUNT0_ADJUSTED'] = np.where(swaps['SYMBOL_IN'] == 'WETH', swaps['AMOUNT_OUT'], swaps['AMOUNT_IN'])\n",
    "swaps['TOKEN0_SYMBOL'] = 'USDC'\n",
    "swaps['AMOUNT1_ADJUSTED'] = np.where(swaps['SYMBOL_IN'] == 'WETH', swaps['AMOUNT_IN'], swaps['AMOUNT_OUT'])\n",
    "swaps['TOKEN1_SYMBOL'] = 'WETH'\n",
    "\n",
    "swaps = swaps[['POOL_NAME','BLOCK_NUMBER','BLOCK_TIMESTAMP','SENDER','EVENT_NAME','AMOUNT0_ADJUSTED','TOKEN0_SYMBOL','AMOUNT1_ADJUSTED','TOKEN1_SYMBOL']]\n",
    "swaps.sort_values(by = 'BLOCK_NUMBER', ascending = True, inplace = True)\n",
    "swaps.reset_index(drop = True, inplace = True)\n",
    "\n",
    "swaps.head()"
   ]
  }
 ],
 "metadata": {
  "kernelspec": {
   "display_name": "Python 3",
   "language": "python",
   "name": "python3"
  },
  "language_info": {
   "codemirror_mode": {
    "name": "ipython",
    "version": 3
   },
   "file_extension": ".py",
   "mimetype": "text/x-python",
   "name": "python",
   "nbconvert_exporter": "python",
   "pygments_lexer": "ipython3",
   "version": "3.9.15"
  },
  "orig_nbformat": 4
 },
 "nbformat": 4,
 "nbformat_minor": 2
}
